{
 "cells": [
  {
   "cell_type": "code",
   "execution_count": null,
   "metadata": {},
   "outputs": [],
   "source": [
    "import numpy as np\n",
    "import imageio\n",
    "\n",
    "from PIL import Image\n",
    "import os\n",
    "\n",
    "# Saving images from ndarray to images folder\n",
    "# for npyfilename in filenames:\n",
    "img_array = np.load(\"./data/X.npy\")\n",
    "result_array = np.load(\"./data/Y.npy\")\n",
    "\n",
    "image_path = \"images\"\n",
    "im = Image.fromarray(img_array[0])\n",
    "im.show()\n",
    "name = \"image\"\n",
    "count = 0\n",
    "for i in range(img_array.shape[0]):\n",
    "    filename = name+str(i)+\"_\"+result_array[i]+\".png\"\n",
    "    imageio.imwrite(os.path.join(image_path,filename),img_array[i])\n",
    "\n",
    "print(\"Done converting to images\")"
   ]
  },
  {
   "cell_type": "code",
   "execution_count": null,
   "metadata": {},
   "outputs": [],
   "source": []
  },
  {
   "cell_type": "code",
   "execution_count": null,
   "metadata": {},
   "outputs": [],
   "source": []
  },
  {
   "cell_type": "code",
   "execution_count": null,
   "metadata": {},
   "outputs": [],
   "source": []
  }
 ],
 "metadata": {
  "kernelspec": {
   "display_name": "Python 3",
   "language": "python",
   "name": "python3"
  },
  "language_info": {
   "codemirror_mode": {
    "name": "ipython",
    "version": 3
   },
   "file_extension": ".py",
   "mimetype": "text/x-python",
   "name": "python",
   "nbconvert_exporter": "python",
   "pygments_lexer": "ipython3",
   "version": "3.6.3"
  }
 },
 "nbformat": 4,
 "nbformat_minor": 2
}
